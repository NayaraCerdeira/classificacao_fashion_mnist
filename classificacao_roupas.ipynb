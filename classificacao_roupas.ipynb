{
  "nbformat": 4,
  "nbformat_minor": 0,
  "metadata": {
    "colab": {
      "name": "classificacao_roupas.ipynb",
      "provenance": [],
      "collapsed_sections": [],
      "toc_visible": true,
      "authorship_tag": "ABX9TyOu5nA9mvbH1s3a9VTF9N0A",
      "include_colab_link": true
    },
    "kernelspec": {
      "name": "python3",
      "display_name": "Python 3"
    }
  },
  "cells": [
    {
      "cell_type": "markdown",
      "metadata": {
        "id": "view-in-github",
        "colab_type": "text"
      },
      "source": [
        "<a href=\"https://colab.research.google.com/github/NayaraCerdeira/classificacao_fashion_mnist/blob/main/classificacao_roupas.ipynb\" target=\"_parent\"><img src=\"https://colab.research.google.com/assets/colab-badge.svg\" alt=\"Open In Colab\"/></a>"
      ]
    },
    {
      "cell_type": "markdown",
      "metadata": {
        "id": "pcnqJHO1LaIv"
      },
      "source": [
        "## Curso da Alura"
      ]
    },
    {
      "cell_type": "markdown",
      "metadata": {
        "id": "bTKGZAnKjr73"
      },
      "source": [
        "Imports\n"
      ]
    },
    {
      "cell_type": "code",
      "metadata": {
        "id": "5pmhK18-hJyv"
      },
      "source": [
        "import tensorflow\n",
        "from tensorflow import keras\n",
        "import matplotlib.pyplot as plt\n",
        "import numpy as np\n"
      ],
      "execution_count": null,
      "outputs": []
    },
    {
      "cell_type": "code",
      "metadata": {
        "id": "_mGtewIyj8qn",
        "colab": {
          "base_uri": "https://localhost:8080/"
        },
        "outputId": "f07a0c0e-cb36-4d45-b99e-650731a4390d"
      },
      "source": [
        "%tensorflow_version"
      ],
      "execution_count": null,
      "outputs": [
        {
          "output_type": "stream",
          "text": [
            "Currently selected TF version: 2.x\n",
            "Available versions:\n",
            "* 1.x\n",
            "* 2.x\n"
          ],
          "name": "stdout"
        }
      ]
    },
    {
      "cell_type": "markdown",
      "metadata": {
        "id": "9NXbQIXxjx5l"
      },
      "source": [
        "Carregar o dataset"
      ]
    },
    {
      "cell_type": "code",
      "metadata": {
        "colab": {
          "base_uri": "https://localhost:8080/"
        },
        "id": "wHFhYcmTjQDm",
        "outputId": "a419fbc7-e891-46d8-d2ec-ccfeec549949"
      },
      "source": [
        "dataset = keras.datasets.fashion_mnist\n",
        "((imagens_treino, identificacoes_treino), (imagens_teste, identicacoes_teste)) = dataset.load_data()\n",
        "imagens_treino"
      ],
      "execution_count": null,
      "outputs": [
        {
          "output_type": "execute_result",
          "data": {
            "text/plain": [
              "array([[[0, 0, 0, ..., 0, 0, 0],\n",
              "        [0, 0, 0, ..., 0, 0, 0],\n",
              "        [0, 0, 0, ..., 0, 0, 0],\n",
              "        ...,\n",
              "        [0, 0, 0, ..., 0, 0, 0],\n",
              "        [0, 0, 0, ..., 0, 0, 0],\n",
              "        [0, 0, 0, ..., 0, 0, 0]],\n",
              "\n",
              "       [[0, 0, 0, ..., 0, 0, 0],\n",
              "        [0, 0, 0, ..., 0, 0, 0],\n",
              "        [0, 0, 0, ..., 0, 0, 0],\n",
              "        ...,\n",
              "        [0, 0, 0, ..., 0, 0, 0],\n",
              "        [0, 0, 0, ..., 0, 0, 0],\n",
              "        [0, 0, 0, ..., 0, 0, 0]],\n",
              "\n",
              "       [[0, 0, 0, ..., 0, 0, 0],\n",
              "        [0, 0, 0, ..., 0, 0, 0],\n",
              "        [0, 0, 0, ..., 0, 0, 0],\n",
              "        ...,\n",
              "        [0, 0, 0, ..., 0, 0, 0],\n",
              "        [0, 0, 0, ..., 0, 0, 0],\n",
              "        [0, 0, 0, ..., 0, 0, 0]],\n",
              "\n",
              "       ...,\n",
              "\n",
              "       [[0, 0, 0, ..., 0, 0, 0],\n",
              "        [0, 0, 0, ..., 0, 0, 0],\n",
              "        [0, 0, 0, ..., 0, 0, 0],\n",
              "        ...,\n",
              "        [0, 0, 0, ..., 0, 0, 0],\n",
              "        [0, 0, 0, ..., 0, 0, 0],\n",
              "        [0, 0, 0, ..., 0, 0, 0]],\n",
              "\n",
              "       [[0, 0, 0, ..., 0, 0, 0],\n",
              "        [0, 0, 0, ..., 0, 0, 0],\n",
              "        [0, 0, 0, ..., 0, 0, 0],\n",
              "        ...,\n",
              "        [0, 0, 0, ..., 0, 0, 0],\n",
              "        [0, 0, 0, ..., 0, 0, 0],\n",
              "        [0, 0, 0, ..., 0, 0, 0]],\n",
              "\n",
              "       [[0, 0, 0, ..., 0, 0, 0],\n",
              "        [0, 0, 0, ..., 0, 0, 0],\n",
              "        [0, 0, 0, ..., 0, 0, 0],\n",
              "        ...,\n",
              "        [0, 0, 0, ..., 0, 0, 0],\n",
              "        [0, 0, 0, ..., 0, 0, 0],\n",
              "        [0, 0, 0, ..., 0, 0, 0]]], dtype=uint8)"
            ]
          },
          "metadata": {
            "tags": []
          },
          "execution_count": 32
        }
      ]
    },
    {
      "cell_type": "markdown",
      "metadata": {
        "id": "X1E6JKrAkFg4"
      },
      "source": [
        "Exploração dos dados"
      ]
    },
    {
      "cell_type": "code",
      "metadata": {
        "id": "fJEjQ9YyiqBS",
        "colab": {
          "base_uri": "https://localhost:8080/"
        },
        "outputId": "fcd44dbe-0831-4263-d1f6-afb561722cfe"
      },
      "source": [
        "#explorar dados\n",
        "len(imagens_treino)\n",
        "imagens_treino.shape"
      ],
      "execution_count": null,
      "outputs": [
        {
          "output_type": "execute_result",
          "data": {
            "text/plain": [
              "(60000, 28, 28)"
            ]
          },
          "metadata": {
            "tags": []
          },
          "execution_count": 4
        }
      ]
    },
    {
      "cell_type": "markdown",
      "metadata": {
        "id": "TM8_EVwokJpg"
      },
      "source": [
        "Exibir dados"
      ]
    },
    {
      "cell_type": "code",
      "metadata": {
        "colab": {
          "base_uri": "https://localhost:8080/",
          "height": 298
        },
        "id": "I7bX7JDuvVKZ",
        "outputId": "97d868bb-176c-411d-b0ea-c62a8e4bb714"
      },
      "source": [
        "\n",
        "plt.imshow(imagens_treino[0])\n",
        "plt.title(identificacoes_treino[0])"
      ],
      "execution_count": null,
      "outputs": [
        {
          "output_type": "execute_result",
          "data": {
            "text/plain": [
              "Text(0.5, 1.0, '9')"
            ]
          },
          "metadata": {
            "tags": []
          },
          "execution_count": 16
        },
        {
          "output_type": "display_data",
          "data": {
            "image/png": "[encoded data removed]",
            "text/plain": [
              "<Figure size 432x288 with 1 Axes>"
            ]
          },
          "metadata": {
            "tags": [],
            "needs_background": "light"
          }
        }
      ]
    },
    {
      "cell_type": "code",
      "metadata": {
        "colab": {
          "base_uri": "https://localhost:8080/",
          "height": 240
        },
        "id": "X3R4VD9fwuNR",
        "outputId": "58f9998d-59f0-4829-8ed8-58bd54834d4b"
      },
      "source": [
        "nomes_de_classificacoes = [ 'Camiseta', 'Calça', 'Pullover', \n",
        "                           'Vestido', 'Casaco', 'Sandalia', 'Camisa',\n",
        "                           'Tenis', 'Bolsa', 'Bota']\n",
        "\n",
        "for imagem in range(10):\n",
        "  plt.subplot(2, 5, imagem+1)\n",
        "  plt.imshow(imagens_treino[imagem])\n",
        "  plt.title(nomes_de_classificacoes[identificacoes_treino[imagem]])"
      ],
      "execution_count": null,
      "outputs": [
        {
          "output_type": "display_data",
          "data": {
            "image/png": "[encoded data removed]",
            "text/plain": [
              "<Figure size 432x288 with 10 Axes>"
            ]
          },
          "metadata": {
            "tags": [],
            "needs_background": "light"
          }
        }
      ]
    },
    {
      "cell_type": "code",
      "metadata": {
        "colab": {
          "base_uri": "https://localhost:8080/",
          "height": 283
        },
        "id": "6zI7SqYsEero",
        "outputId": "6bd3fd04-7d36-42f1-b2dd-5ccd6d63da15"
      },
      "source": [
        "plt.imshow(imagens_treino[0])\n",
        "plt.colorbar()"
      ],
      "execution_count": null,
      "outputs": [
        {
          "output_type": "execute_result",
          "data": {
            "text/plain": [
              "<matplotlib.colorbar.Colorbar at 0x7f3b4bd356d8>"
            ]
          },
          "metadata": {
            "tags": []
          },
          "execution_count": 6
        },
        {
          "output_type": "display_data",
          "data": {
            "image/png": "[encoded data removed]",
            "text/plain": [
              "<Figure size 432x288 with 2 Axes>"
            ]
          },
          "metadata": {
            "tags": [],
            "needs_background": "light"
          }
        }
      ]
    },
    {
      "cell_type": "markdown",
      "metadata": {
        "id": "TfjjsN7DC0Oo"
      },
      "source": [
        "Nesta aula, aprendemos:\n",
        "\n",
        "*  o que é uma camada Dense,\n",
        "*  a usar um número de unidades que seja múltiplo de 2,\n",
        "* processar nossos inputs usando ReLU,\n",
        "* como a ReLu funciona,\n",
        "* como linearidade e não linearidade são usadas na classificação,\n",
        "* o número de unidades na nossa camada de saída,\n",
        "* como a* Softmax* funciona,\n",
        "* o que é um modelo multi-camadas,\n",
        "que há uma discussão em torno do que é considerado deep learning,\n",
        "* como treinar o nosso modelo,\n",
        "* a necessidade de compilar o modelo."
      ]
    },
    {
      "cell_type": "markdown",
      "metadata": {
        "id": "Ybg0MiC6GC0R"
      },
      "source": [
        "* o que é uma época de treinamento,\n",
        "* como o modelo é treinado,\n",
        "* que argumentos passamos para o método compile,\n",
        "* o que é a perda do modelo,\n",
        "* como normalizar as imagens,\n",
        "* a importância de experimentar ao fazer o modelo,\n",
        "* que mais camadas podem levar mais tempo para treinar,\n",
        "* o que são camadas ocultas,\n",
        "* mais camadas não significam resultados melhores."
      ]
    },
    {
      "cell_type": "code",
      "metadata": {
        "colab": {
          "base_uri": "https://localhost:8080/"
        },
        "id": "NZJj_t4AD6TJ",
        "outputId": "0c28050a-b990-4ca8-98e6-ff579047e07c"
      },
      "source": [
        "len(imagens_treino)"
      ],
      "execution_count": null,
      "outputs": [
        {
          "output_type": "execute_result",
          "data": {
            "text/plain": [
              "60000"
            ]
          },
          "metadata": {
            "tags": []
          },
          "execution_count": 7
        }
      ]
    },
    {
      "cell_type": "code",
      "metadata": {
        "id": "DYF0YJ_vxs6E",
        "colab": {
          "base_uri": "https://localhost:8080/"
        },
        "outputId": "7bf99b88-1caf-4aae-9990-92790cd0627c"
      },
      "source": [
        "#normalização\n",
        "imagens_treino = imagens_treino/float(255)\n",
        "\n",
        "\n",
        "modelo = keras.Sequential([\n",
        "    keras.layers.Flatten(input_shape = (28, 28)), #formato da entrada\n",
        "    keras.layers.Dense(256, activation= tensorflow.nn.relu), #processamento\n",
        "    keras.layers.Dropout(0.2), #normalização \n",
        "    keras.layers.Dense(10, activation= tensorflow.nn.softmax) #saida  \n",
        "    ])\n",
        "\n",
        "#modelo compilado\n",
        "\n",
        "modelo.compile(optimizer= 'adam', \n",
        "               loss = 'sparse_categorical_crossentropy',\n",
        "               metrics = ['accuracy'])\n",
        "\n",
        "historico = modelo.fit(imagens_treino, identificacoes_treino, epochs= 10, validation_split= 0.2)\n",
        "\n",
        "    \n",
        "    "
      ],
      "execution_count": null,
      "outputs": [
        {
          "output_type": "stream",
          "text": [
            "Epoch 1/10\n",
            "1500/1500 [==============================] - 4s 3ms/step - loss: 1.0883 - accuracy: 0.6536 - val_loss: 0.6941 - val_accuracy: 0.7551\n",
            "Epoch 2/10\n",
            "1500/1500 [==============================] - 4s 3ms/step - loss: 0.6579 - accuracy: 0.7614 - val_loss: 0.5901 - val_accuracy: 0.7847\n",
            "Epoch 3/10\n",
            "1500/1500 [==============================] - 4s 3ms/step - loss: 0.5819 - accuracy: 0.7901 - val_loss: 0.5417 - val_accuracy: 0.8064\n",
            "Epoch 4/10\n",
            "1500/1500 [==============================] - 4s 3ms/step - loss: 0.5371 - accuracy: 0.8086 - val_loss: 0.5045 - val_accuracy: 0.8202\n",
            "Epoch 5/10\n",
            "1500/1500 [==============================] - 4s 3ms/step - loss: 0.5058 - accuracy: 0.8203 - val_loss: 0.4847 - val_accuracy: 0.8254\n",
            "Epoch 6/10\n",
            "1500/1500 [==============================] - 4s 3ms/step - loss: 0.4845 - accuracy: 0.8268 - val_loss: 0.4634 - val_accuracy: 0.8346\n",
            "Epoch 7/10\n",
            "1500/1500 [==============================] - 4s 3ms/step - loss: 0.4660 - accuracy: 0.8343 - val_loss: 0.4519 - val_accuracy: 0.8374\n",
            "Epoch 8/10\n",
            "1500/1500 [==============================] - 4s 3ms/step - loss: 0.4517 - accuracy: 0.8407 - val_loss: 0.4385 - val_accuracy: 0.8420\n",
            "Epoch 9/10\n",
            "1500/1500 [==============================] - 4s 3ms/step - loss: 0.4402 - accuracy: 0.8432 - val_loss: 0.4323 - val_accuracy: 0.8466\n",
            "Epoch 10/10\n",
            "1500/1500 [==============================] - 4s 3ms/step - loss: 0.4308 - accuracy: 0.8470 - val_loss: 0.4253 - val_accuracy: 0.8455\n"
          ],
          "name": "stdout"
        }
      ]
    },
    {
      "cell_type": "code",
      "metadata": {
        "id": "7_2N_MKP-DBp"
      },
      "source": [
        "#salvar modelo\n",
        "\n",
        "modelo.save('modelo.h5')\n",
        "\n",
        "#ler modelo\n",
        "#precisa importar\n",
        "\n",
        "from tensorflow.keras.models import load_model\n",
        "\n",
        "modelo_salvo = load_model('modelo.h5')"
      ],
      "execution_count": null,
      "outputs": []
    },
    {
      "cell_type": "code",
      "metadata": {
        "id": "eQhD-187-DAB"
      },
      "source": [
        "#teste modelo salvo"
      ],
      "execution_count": null,
      "outputs": []
    },
    {
      "cell_type": "code",
      "metadata": {
        "colab": {
          "base_uri": "https://localhost:8080/",
          "height": 297
        },
        "id": "sB14_mg03ZMF",
        "outputId": "4c8e9fc9-b4e6-4586-9d47-1f435616f132"
      },
      "source": [
        "plt.plot(historico.history['accuracy'])\n",
        "plt.plot(historico.history['val_accuracy'])\n",
        "plt.xlabel('epocas')\n",
        "plt.ylabel('acuracia')\n",
        "plt.legend(['treino', 'avaliação'])"
      ],
      "execution_count": null,
      "outputs": [
        {
          "output_type": "execute_result",
          "data": {
            "text/plain": [
              "<matplotlib.legend.Legend at 0x7f3b33320a58>"
            ]
          },
          "metadata": {
            "tags": []
          },
          "execution_count": 39
        },
        {
          "output_type": "display_data",
          "data": {
            "image/png": "[encoded data removed]",
            "text/plain": [
              "<Figure size 432x288 with 1 Axes>"
            ]
          },
          "metadata": {
            "tags": [],
            "needs_background": "light"
          }
        }
      ]
    },
    {
      "cell_type": "code",
      "metadata": {
        "colab": {
          "base_uri": "https://localhost:8080/",
          "height": 297
        },
        "id": "Pe0YhdjH7ONh",
        "outputId": "ee55560b-a264-4cf8-e93c-6073a885b261"
      },
      "source": [
        "plt.plot(historico.history['loss'])\n",
        "plt.plot(historico.history['val_loss'])\n",
        "plt.xlabel('epocas')\n",
        "plt.ylabel('perdas')\n",
        "plt.legend(['treino', 'valiação'])"
      ],
      "execution_count": null,
      "outputs": [
        {
          "output_type": "execute_result",
          "data": {
            "text/plain": [
              "<matplotlib.legend.Legend at 0x7f3b4c499c18>"
            ]
          },
          "metadata": {
            "tags": []
          },
          "execution_count": 40
        },
        {
          "output_type": "display_data",
          "data": {
            "image/png": "[encoded data removed]",
            "text/plain": [
              "<Figure size 432x288 with 1 Axes>"
            ]
          },
          "metadata": {
            "tags": [],
            "needs_background": "light"
          }
        }
      ]
    },
    {
      "cell_type": "code",
      "metadata": {
        "id": "qYRv0LJv7OMA"
      },
      "source": [
        ""
      ],
      "execution_count": null,
      "outputs": []
    },
    {
      "cell_type": "code",
      "metadata": {
        "colab": {
          "base_uri": "https://localhost:8080/"
        },
        "id": "vMXRB4pguJm3",
        "outputId": "23eb6893-a6c8-469c-ad70-ca28f167e1d7"
      },
      "source": [
        "len(identificacoes_treino)"
      ],
      "execution_count": null,
      "outputs": [
        {
          "output_type": "execute_result",
          "data": {
            "text/plain": [
              "60000"
            ]
          },
          "metadata": {
            "tags": []
          },
          "execution_count": 10
        }
      ]
    },
    {
      "cell_type": "code",
      "metadata": {
        "colab": {
          "base_uri": "https://localhost:8080/"
        },
        "id": "21EeZy_Dw6RD",
        "outputId": "7ec6d704-2bb5-4758-ad93-6ef220ffba82"
      },
      "source": [
        "testes = modelo.predict(imagens_teste)\n",
        "print('resultado teste: ',np.argmax(testes[1]))\n",
        "print('número da imagem de teste: ', identicacoes_teste[1])\n",
        "\n",
        "\n",
        "\n",
        "testes_modelo_salvo = modelo_salvo.predict(imagens_teste)\n",
        "print('resultado teste de modelo salvo: ', np.argmax(testes_modelo_salvo[1]) )\n",
        "print('número da imagem de teste: ', identicacoes_teste[1])\n"
      ],
      "execution_count": null,
      "outputs": [
        {
          "output_type": "stream",
          "text": [
            "resultado teste:  2\n",
            "número da imagem de teste:  2\n",
            "resultado teste de modelo salvo:  2\n",
            "número da imagem de teste:  2\n"
          ],
          "name": "stdout"
        }
      ]
    },
    {
      "cell_type": "code",
      "metadata": {
        "colab": {
          "base_uri": "https://localhost:8080/"
        },
        "id": "6EzgT-Y5w6Py",
        "outputId": "70785b54-f526-4d51-e0cc-f41cf33637d5"
      },
      "source": [
        "#avaliar modelo\n",
        "perda_test, acuracia_test = modelo.evaluate(imagens_teste, identicacoes_teste)"
      ],
      "execution_count": null,
      "outputs": [
        {
          "output_type": "stream",
          "text": [
            "313/313 [==============================] - 0s 1ms/step - loss: 397.4469 - accuracy: 0.2981\n"
          ],
          "name": "stdout"
        }
      ]
    },
    {
      "cell_type": "code",
      "metadata": {
        "colab": {
          "base_uri": "https://localhost:8080/"
        },
        "id": "9bo9cVGIw6OM",
        "outputId": "45a568be-9864-4511-fd99-de2cb868656c"
      },
      "source": [
        "print('perda', perda_test)\n",
        "print('acuracia', acuracia_test)"
      ],
      "execution_count": null,
      "outputs": [
        {
          "output_type": "stream",
          "text": [
            "perda 397.4469299316406\n",
            "acuracia 0.29809999465942383\n"
          ],
          "name": "stdout"
        }
      ]
    },
    {
      "cell_type": "markdown",
      "metadata": {
        "id": "kxy22ALCzTRo"
      },
      "source": [
        "# O que aprendi:\n",
        "\n",
        "* a importância de reiniciar (restart) o runtime do Colab;\n",
        "*  que treinar mais vezes o modelo pode reduzira perda;\n",
        "*  como saber a taxa de acerto ou acuracia;\n",
        "* a treinar o modelo;\n",
        "* como obter resultados com argmax();\n",
        "* a avaliar o teste do modelo com evalute;\n",
        "*  a separar dados para validação do modelo com validation_plit."
      ]
    },
    {
      "cell_type": "markdown",
      "metadata": {
        "id": "1ylFd9OvBVE-"
      },
      "source": [
        "# o que aprendi:\n",
        "\n",
        "* a visualizar a perda e acurácia de treino e validação,\n",
        "* a acessar o histórico de treino do modelo,\n",
        "* como identificar um overfitting,\n",
        "* a usar Dropout para normalizar o modelo,\n",
        "* como salvar o modelo e carregá-lo com load_model,\n",
        "* a testar o modelo salvo."
      ]
    },
    {
      "cell_type": "code",
      "metadata": {
        "id": "UVz8OE3M0Epk"
      },
      "source": [
        ""
      ],
      "execution_count": null,
      "outputs": []
    }
  ]
}